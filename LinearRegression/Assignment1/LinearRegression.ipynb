{
 "cells": [
  {
   "cell_type": "code",
   "execution_count": 1,
   "metadata": {},
   "outputs": [],
   "source": [
    "import pandas as p\n",
    "from pandas import DataFrame\n",
    "import numpy as n\n",
    "import matplotlib.pyplot as m\n",
    "\n",
    "import math as math"
   ]
  },
  {
   "cell_type": "code",
   "execution_count": 2,
   "metadata": {},
   "outputs": [],
   "source": [
    "dataset = p.read_csv(\"Bothell_Housing.csv\")"
   ]
  },
  {
   "cell_type": "code",
   "execution_count": 3,
   "metadata": {},
   "outputs": [],
   "source": [
    "colnames = ['CITY','BEDS','BATHS','SQUARE FEET','PRICE']"
   ]
  },
  {
   "cell_type": "code",
   "execution_count": 4,
   "metadata": {},
   "outputs": [],
   "source": [
    "dataBase = dataset[dataset.CITY=='Bothell']\n",
    "dataBase = dataBase[colnames]"
   ]
  },
  {
   "cell_type": "code",
   "execution_count": 5,
   "metadata": {},
   "outputs": [
    {
     "data": {
      "text/plain": [
       "(335, 5)"
      ]
     },
     "execution_count": 5,
     "metadata": {},
     "output_type": "execute_result"
    }
   ],
   "source": [
    "dataBase.shape"
   ]
  },
  {
   "cell_type": "code",
   "execution_count": 6,
   "metadata": {},
   "outputs": [
    {
     "data": {
      "text/html": [
       "<div>\n",
       "<style scoped>\n",
       "    .dataframe tbody tr th:only-of-type {\n",
       "        vertical-align: middle;\n",
       "    }\n",
       "\n",
       "    .dataframe tbody tr th {\n",
       "        vertical-align: top;\n",
       "    }\n",
       "\n",
       "    .dataframe thead th {\n",
       "        text-align: right;\n",
       "    }\n",
       "</style>\n",
       "<table border=\"1\" class=\"dataframe\">\n",
       "  <thead>\n",
       "    <tr style=\"text-align: right;\">\n",
       "      <th></th>\n",
       "      <th>CITY</th>\n",
       "      <th>BEDS</th>\n",
       "      <th>BATHS</th>\n",
       "      <th>SQUARE FEET</th>\n",
       "      <th>PRICE</th>\n",
       "    </tr>\n",
       "  </thead>\n",
       "  <tbody>\n",
       "    <tr>\n",
       "      <th>0</th>\n",
       "      <td>Bothell</td>\n",
       "      <td>3</td>\n",
       "      <td>1.500000</td>\n",
       "      <td>1232.00000</td>\n",
       "      <td>394950</td>\n",
       "    </tr>\n",
       "    <tr>\n",
       "      <th>1</th>\n",
       "      <td>Bothell</td>\n",
       "      <td>2</td>\n",
       "      <td>1.000000</td>\n",
       "      <td>887.00000</td>\n",
       "      <td>290000</td>\n",
       "    </tr>\n",
       "    <tr>\n",
       "      <th>2</th>\n",
       "      <td>Bothell</td>\n",
       "      <td>2</td>\n",
       "      <td>2.000000</td>\n",
       "      <td>1018.00000</td>\n",
       "      <td>320000</td>\n",
       "    </tr>\n",
       "    <tr>\n",
       "      <th>3</th>\n",
       "      <td>Bothell</td>\n",
       "      <td>4</td>\n",
       "      <td>2.500000</td>\n",
       "      <td>1854.00000</td>\n",
       "      <td>555000</td>\n",
       "    </tr>\n",
       "    <tr>\n",
       "      <th>4</th>\n",
       "      <td>Bothell</td>\n",
       "      <td>4</td>\n",
       "      <td>2.750000</td>\n",
       "      <td>2111.00000</td>\n",
       "      <td>625000</td>\n",
       "    </tr>\n",
       "    <tr>\n",
       "      <th>5</th>\n",
       "      <td>Bothell</td>\n",
       "      <td>4</td>\n",
       "      <td>2.500000</td>\n",
       "      <td>2925.00000</td>\n",
       "      <td>740000</td>\n",
       "    </tr>\n",
       "    <tr>\n",
       "      <th>6</th>\n",
       "      <td>Bothell</td>\n",
       "      <td>3</td>\n",
       "      <td>2.250000</td>\n",
       "      <td>1650.00000</td>\n",
       "      <td>600000</td>\n",
       "    </tr>\n",
       "    <tr>\n",
       "      <th>7</th>\n",
       "      <td>Bothell</td>\n",
       "      <td>3</td>\n",
       "      <td>1.750000</td>\n",
       "      <td>1396.00000</td>\n",
       "      <td>375000</td>\n",
       "    </tr>\n",
       "    <tr>\n",
       "      <th>8</th>\n",
       "      <td>Bothell</td>\n",
       "      <td>4</td>\n",
       "      <td>2.000000</td>\n",
       "      <td>2495.00000</td>\n",
       "      <td>565000</td>\n",
       "    </tr>\n",
       "    <tr>\n",
       "      <th>9</th>\n",
       "      <td>Bothell</td>\n",
       "      <td>2</td>\n",
       "      <td>2.000000</td>\n",
       "      <td>1096.00000</td>\n",
       "      <td>440000</td>\n",
       "    </tr>\n",
       "    <tr>\n",
       "      <th>10</th>\n",
       "      <td>Bothell</td>\n",
       "      <td>2</td>\n",
       "      <td>2.000000</td>\n",
       "      <td>1309.00000</td>\n",
       "      <td>455000</td>\n",
       "    </tr>\n",
       "    <tr>\n",
       "      <th>11</th>\n",
       "      <td>Bothell</td>\n",
       "      <td>4</td>\n",
       "      <td>2.500000</td>\n",
       "      <td>2158.00000</td>\n",
       "      <td>520000</td>\n",
       "    </tr>\n",
       "    <tr>\n",
       "      <th>12</th>\n",
       "      <td>Bothell</td>\n",
       "      <td>5</td>\n",
       "      <td>3.000000</td>\n",
       "      <td>3371.00000</td>\n",
       "      <td>830000</td>\n",
       "    </tr>\n",
       "    <tr>\n",
       "      <th>13</th>\n",
       "      <td>Bothell</td>\n",
       "      <td>5</td>\n",
       "      <td>2.750000</td>\n",
       "      <td>2661.00000</td>\n",
       "      <td>749900</td>\n",
       "    </tr>\n",
       "    <tr>\n",
       "      <th>14</th>\n",
       "      <td>Bothell</td>\n",
       "      <td>3</td>\n",
       "      <td>2.250000</td>\n",
       "      <td>1515.00000</td>\n",
       "      <td>450000</td>\n",
       "    </tr>\n",
       "    <tr>\n",
       "      <th>15</th>\n",
       "      <td>Bothell</td>\n",
       "      <td>4</td>\n",
       "      <td>2.500000</td>\n",
       "      <td>1982.00000</td>\n",
       "      <td>560000</td>\n",
       "    </tr>\n",
       "    <tr>\n",
       "      <th>16</th>\n",
       "      <td>Bothell</td>\n",
       "      <td>4</td>\n",
       "      <td>1.750000</td>\n",
       "      <td>1487.00000</td>\n",
       "      <td>515000</td>\n",
       "    </tr>\n",
       "    <tr>\n",
       "      <th>17</th>\n",
       "      <td>Bothell</td>\n",
       "      <td>4</td>\n",
       "      <td>3.000000</td>\n",
       "      <td>2483.00000</td>\n",
       "      <td>589950</td>\n",
       "    </tr>\n",
       "    <tr>\n",
       "      <th>18</th>\n",
       "      <td>Bothell</td>\n",
       "      <td>2</td>\n",
       "      <td>2.500000</td>\n",
       "      <td>1114.00000</td>\n",
       "      <td>315000</td>\n",
       "    </tr>\n",
       "    <tr>\n",
       "      <th>20</th>\n",
       "      <td>Bothell</td>\n",
       "      <td>3</td>\n",
       "      <td>2.500000</td>\n",
       "      <td>2870.00000</td>\n",
       "      <td>865000</td>\n",
       "    </tr>\n",
       "    <tr>\n",
       "      <th>21</th>\n",
       "      <td>Bothell</td>\n",
       "      <td>3</td>\n",
       "      <td>2.500000</td>\n",
       "      <td>1682.00000</td>\n",
       "      <td>455000</td>\n",
       "    </tr>\n",
       "    <tr>\n",
       "      <th>22</th>\n",
       "      <td>Bothell</td>\n",
       "      <td>2</td>\n",
       "      <td>1.750000</td>\n",
       "      <td>1466.00000</td>\n",
       "      <td>500000</td>\n",
       "    </tr>\n",
       "    <tr>\n",
       "      <th>23</th>\n",
       "      <td>Bothell</td>\n",
       "      <td>4</td>\n",
       "      <td>3.000000</td>\n",
       "      <td>2047.00000</td>\n",
       "      <td>593999</td>\n",
       "    </tr>\n",
       "    <tr>\n",
       "      <th>24</th>\n",
       "      <td>Bothell</td>\n",
       "      <td>3</td>\n",
       "      <td>1.000000</td>\n",
       "      <td>1248.00000</td>\n",
       "      <td>385000</td>\n",
       "    </tr>\n",
       "    <tr>\n",
       "      <th>25</th>\n",
       "      <td>Bothell</td>\n",
       "      <td>3</td>\n",
       "      <td>2.500000</td>\n",
       "      <td>2268.00000</td>\n",
       "      <td>537500</td>\n",
       "    </tr>\n",
       "    <tr>\n",
       "      <th>26</th>\n",
       "      <td>Bothell</td>\n",
       "      <td>3</td>\n",
       "      <td>2.000000</td>\n",
       "      <td>1402.00000</td>\n",
       "      <td>461000</td>\n",
       "    </tr>\n",
       "    <tr>\n",
       "      <th>27</th>\n",
       "      <td>Bothell</td>\n",
       "      <td>3</td>\n",
       "      <td>2.500000</td>\n",
       "      <td>2781.00000</td>\n",
       "      <td>705000</td>\n",
       "    </tr>\n",
       "    <tr>\n",
       "      <th>28</th>\n",
       "      <td>Bothell</td>\n",
       "      <td>4</td>\n",
       "      <td>2.500000</td>\n",
       "      <td>1827.00000</td>\n",
       "      <td>535000</td>\n",
       "    </tr>\n",
       "    <tr>\n",
       "      <th>29</th>\n",
       "      <td>Bothell</td>\n",
       "      <td>4</td>\n",
       "      <td>2.500000</td>\n",
       "      <td>2070.00000</td>\n",
       "      <td>502000</td>\n",
       "    </tr>\n",
       "    <tr>\n",
       "      <th>30</th>\n",
       "      <td>Bothell</td>\n",
       "      <td>4</td>\n",
       "      <td>2.500000</td>\n",
       "      <td>2116.00000</td>\n",
       "      <td>699950</td>\n",
       "    </tr>\n",
       "    <tr>\n",
       "      <th>...</th>\n",
       "      <td>...</td>\n",
       "      <td>...</td>\n",
       "      <td>...</td>\n",
       "      <td>...</td>\n",
       "      <td>...</td>\n",
       "    </tr>\n",
       "    <tr>\n",
       "      <th>319</th>\n",
       "      <td>Bothell</td>\n",
       "      <td>3</td>\n",
       "      <td>2.500000</td>\n",
       "      <td>1588.00000</td>\n",
       "      <td>487500</td>\n",
       "    </tr>\n",
       "    <tr>\n",
       "      <th>320</th>\n",
       "      <td>Bothell</td>\n",
       "      <td>3</td>\n",
       "      <td>2.250000</td>\n",
       "      <td>1672.00000</td>\n",
       "      <td>512000</td>\n",
       "    </tr>\n",
       "    <tr>\n",
       "      <th>321</th>\n",
       "      <td>Bothell</td>\n",
       "      <td>4</td>\n",
       "      <td>4.000000</td>\n",
       "      <td>2492.00000</td>\n",
       "      <td>749534</td>\n",
       "    </tr>\n",
       "    <tr>\n",
       "      <th>322</th>\n",
       "      <td>Bothell</td>\n",
       "      <td>3</td>\n",
       "      <td>2.500000</td>\n",
       "      <td>3777.00000</td>\n",
       "      <td>1221894</td>\n",
       "    </tr>\n",
       "    <tr>\n",
       "      <th>323</th>\n",
       "      <td>Bothell</td>\n",
       "      <td>4</td>\n",
       "      <td>2.500000</td>\n",
       "      <td>1472.00000</td>\n",
       "      <td>440000</td>\n",
       "    </tr>\n",
       "    <tr>\n",
       "      <th>324</th>\n",
       "      <td>Bothell</td>\n",
       "      <td>4</td>\n",
       "      <td>2.500000</td>\n",
       "      <td>2047.00000</td>\n",
       "      <td>627000</td>\n",
       "    </tr>\n",
       "    <tr>\n",
       "      <th>325</th>\n",
       "      <td>Bothell</td>\n",
       "      <td>3</td>\n",
       "      <td>0.500000</td>\n",
       "      <td>871.00000</td>\n",
       "      <td>308000</td>\n",
       "    </tr>\n",
       "    <tr>\n",
       "      <th>326</th>\n",
       "      <td>Bothell</td>\n",
       "      <td>4</td>\n",
       "      <td>3.000000</td>\n",
       "      <td>2726.00000</td>\n",
       "      <td>665000</td>\n",
       "    </tr>\n",
       "    <tr>\n",
       "      <th>327</th>\n",
       "      <td>Bothell</td>\n",
       "      <td>4</td>\n",
       "      <td>3.500000</td>\n",
       "      <td>3316.00000</td>\n",
       "      <td>799950</td>\n",
       "    </tr>\n",
       "    <tr>\n",
       "      <th>328</th>\n",
       "      <td>Bothell</td>\n",
       "      <td>4</td>\n",
       "      <td>2.500000</td>\n",
       "      <td>2346.00000</td>\n",
       "      <td>769995</td>\n",
       "    </tr>\n",
       "    <tr>\n",
       "      <th>329</th>\n",
       "      <td>Bothell</td>\n",
       "      <td>5</td>\n",
       "      <td>4.750000</td>\n",
       "      <td>4634.00000</td>\n",
       "      <td>875000</td>\n",
       "    </tr>\n",
       "    <tr>\n",
       "      <th>330</th>\n",
       "      <td>Bothell</td>\n",
       "      <td>3</td>\n",
       "      <td>2.500000</td>\n",
       "      <td>1700.00000</td>\n",
       "      <td>605000</td>\n",
       "    </tr>\n",
       "    <tr>\n",
       "      <th>331</th>\n",
       "      <td>Bothell</td>\n",
       "      <td>2</td>\n",
       "      <td>2.000000</td>\n",
       "      <td>1440.00000</td>\n",
       "      <td>310000</td>\n",
       "    </tr>\n",
       "    <tr>\n",
       "      <th>332</th>\n",
       "      <td>Bothell</td>\n",
       "      <td>5</td>\n",
       "      <td>4.000000</td>\n",
       "      <td>4110.00000</td>\n",
       "      <td>1349990</td>\n",
       "    </tr>\n",
       "    <tr>\n",
       "      <th>334</th>\n",
       "      <td>Bothell</td>\n",
       "      <td>4</td>\n",
       "      <td>3.250000</td>\n",
       "      <td>2048.00000</td>\n",
       "      <td>781417</td>\n",
       "    </tr>\n",
       "    <tr>\n",
       "      <th>335</th>\n",
       "      <td>Bothell</td>\n",
       "      <td>4</td>\n",
       "      <td>3.250000</td>\n",
       "      <td>2097.00000</td>\n",
       "      <td>924829</td>\n",
       "    </tr>\n",
       "    <tr>\n",
       "      <th>336</th>\n",
       "      <td>Bothell</td>\n",
       "      <td>0</td>\n",
       "      <td>2.493243</td>\n",
       "      <td>2146.12012</td>\n",
       "      <td>900000</td>\n",
       "    </tr>\n",
       "    <tr>\n",
       "      <th>337</th>\n",
       "      <td>Bothell</td>\n",
       "      <td>4</td>\n",
       "      <td>2.500000</td>\n",
       "      <td>2501.00000</td>\n",
       "      <td>590000</td>\n",
       "    </tr>\n",
       "    <tr>\n",
       "      <th>338</th>\n",
       "      <td>Bothell</td>\n",
       "      <td>4</td>\n",
       "      <td>2.500000</td>\n",
       "      <td>2161.00000</td>\n",
       "      <td>525000</td>\n",
       "    </tr>\n",
       "    <tr>\n",
       "      <th>339</th>\n",
       "      <td>Bothell</td>\n",
       "      <td>2</td>\n",
       "      <td>1.750000</td>\n",
       "      <td>1109.00000</td>\n",
       "      <td>305000</td>\n",
       "    </tr>\n",
       "    <tr>\n",
       "      <th>340</th>\n",
       "      <td>Bothell</td>\n",
       "      <td>3</td>\n",
       "      <td>2.500000</td>\n",
       "      <td>1690.00000</td>\n",
       "      <td>460000</td>\n",
       "    </tr>\n",
       "    <tr>\n",
       "      <th>341</th>\n",
       "      <td>Bothell</td>\n",
       "      <td>3</td>\n",
       "      <td>2.750000</td>\n",
       "      <td>2470.00000</td>\n",
       "      <td>591000</td>\n",
       "    </tr>\n",
       "    <tr>\n",
       "      <th>342</th>\n",
       "      <td>Bothell</td>\n",
       "      <td>7</td>\n",
       "      <td>3.750000</td>\n",
       "      <td>4438.00000</td>\n",
       "      <td>1430974</td>\n",
       "    </tr>\n",
       "    <tr>\n",
       "      <th>343</th>\n",
       "      <td>Bothell</td>\n",
       "      <td>4</td>\n",
       "      <td>2.500000</td>\n",
       "      <td>2200.00000</td>\n",
       "      <td>749900</td>\n",
       "    </tr>\n",
       "    <tr>\n",
       "      <th>344</th>\n",
       "      <td>Bothell</td>\n",
       "      <td>3</td>\n",
       "      <td>2.500000</td>\n",
       "      <td>1782.00000</td>\n",
       "      <td>525000</td>\n",
       "    </tr>\n",
       "    <tr>\n",
       "      <th>345</th>\n",
       "      <td>Bothell</td>\n",
       "      <td>2</td>\n",
       "      <td>2.250000</td>\n",
       "      <td>1452.00000</td>\n",
       "      <td>325000</td>\n",
       "    </tr>\n",
       "    <tr>\n",
       "      <th>346</th>\n",
       "      <td>Bothell</td>\n",
       "      <td>4</td>\n",
       "      <td>3.000000</td>\n",
       "      <td>2200.00000</td>\n",
       "      <td>559950</td>\n",
       "    </tr>\n",
       "    <tr>\n",
       "      <th>347</th>\n",
       "      <td>Bothell</td>\n",
       "      <td>3</td>\n",
       "      <td>2.000000</td>\n",
       "      <td>1276.00000</td>\n",
       "      <td>422000</td>\n",
       "    </tr>\n",
       "    <tr>\n",
       "      <th>348</th>\n",
       "      <td>Bothell</td>\n",
       "      <td>3</td>\n",
       "      <td>1.750000</td>\n",
       "      <td>1386.00000</td>\n",
       "      <td>378700</td>\n",
       "    </tr>\n",
       "    <tr>\n",
       "      <th>349</th>\n",
       "      <td>Bothell</td>\n",
       "      <td>2</td>\n",
       "      <td>1.500000</td>\n",
       "      <td>1036.00000</td>\n",
       "      <td>350000</td>\n",
       "    </tr>\n",
       "  </tbody>\n",
       "</table>\n",
       "<p>335 rows × 5 columns</p>\n",
       "</div>"
      ],
      "text/plain": [
       "        CITY  BEDS     BATHS  SQUARE FEET    PRICE\n",
       "0    Bothell     3  1.500000   1232.00000   394950\n",
       "1    Bothell     2  1.000000    887.00000   290000\n",
       "2    Bothell     2  2.000000   1018.00000   320000\n",
       "3    Bothell     4  2.500000   1854.00000   555000\n",
       "4    Bothell     4  2.750000   2111.00000   625000\n",
       "5    Bothell     4  2.500000   2925.00000   740000\n",
       "6    Bothell     3  2.250000   1650.00000   600000\n",
       "7    Bothell     3  1.750000   1396.00000   375000\n",
       "8    Bothell     4  2.000000   2495.00000   565000\n",
       "9    Bothell     2  2.000000   1096.00000   440000\n",
       "10   Bothell     2  2.000000   1309.00000   455000\n",
       "11   Bothell     4  2.500000   2158.00000   520000\n",
       "12   Bothell     5  3.000000   3371.00000   830000\n",
       "13   Bothell     5  2.750000   2661.00000   749900\n",
       "14   Bothell     3  2.250000   1515.00000   450000\n",
       "15   Bothell     4  2.500000   1982.00000   560000\n",
       "16   Bothell     4  1.750000   1487.00000   515000\n",
       "17   Bothell     4  3.000000   2483.00000   589950\n",
       "18   Bothell     2  2.500000   1114.00000   315000\n",
       "20   Bothell     3  2.500000   2870.00000   865000\n",
       "21   Bothell     3  2.500000   1682.00000   455000\n",
       "22   Bothell     2  1.750000   1466.00000   500000\n",
       "23   Bothell     4  3.000000   2047.00000   593999\n",
       "24   Bothell     3  1.000000   1248.00000   385000\n",
       "25   Bothell     3  2.500000   2268.00000   537500\n",
       "26   Bothell     3  2.000000   1402.00000   461000\n",
       "27   Bothell     3  2.500000   2781.00000   705000\n",
       "28   Bothell     4  2.500000   1827.00000   535000\n",
       "29   Bothell     4  2.500000   2070.00000   502000\n",
       "30   Bothell     4  2.500000   2116.00000   699950\n",
       "..       ...   ...       ...          ...      ...\n",
       "319  Bothell     3  2.500000   1588.00000   487500\n",
       "320  Bothell     3  2.250000   1672.00000   512000\n",
       "321  Bothell     4  4.000000   2492.00000   749534\n",
       "322  Bothell     3  2.500000   3777.00000  1221894\n",
       "323  Bothell     4  2.500000   1472.00000   440000\n",
       "324  Bothell     4  2.500000   2047.00000   627000\n",
       "325  Bothell     3  0.500000    871.00000   308000\n",
       "326  Bothell     4  3.000000   2726.00000   665000\n",
       "327  Bothell     4  3.500000   3316.00000   799950\n",
       "328  Bothell     4  2.500000   2346.00000   769995\n",
       "329  Bothell     5  4.750000   4634.00000   875000\n",
       "330  Bothell     3  2.500000   1700.00000   605000\n",
       "331  Bothell     2  2.000000   1440.00000   310000\n",
       "332  Bothell     5  4.000000   4110.00000  1349990\n",
       "334  Bothell     4  3.250000   2048.00000   781417\n",
       "335  Bothell     4  3.250000   2097.00000   924829\n",
       "336  Bothell     0  2.493243   2146.12012   900000\n",
       "337  Bothell     4  2.500000   2501.00000   590000\n",
       "338  Bothell     4  2.500000   2161.00000   525000\n",
       "339  Bothell     2  1.750000   1109.00000   305000\n",
       "340  Bothell     3  2.500000   1690.00000   460000\n",
       "341  Bothell     3  2.750000   2470.00000   591000\n",
       "342  Bothell     7  3.750000   4438.00000  1430974\n",
       "343  Bothell     4  2.500000   2200.00000   749900\n",
       "344  Bothell     3  2.500000   1782.00000   525000\n",
       "345  Bothell     2  2.250000   1452.00000   325000\n",
       "346  Bothell     4  3.000000   2200.00000   559950\n",
       "347  Bothell     3  2.000000   1276.00000   422000\n",
       "348  Bothell     3  1.750000   1386.00000   378700\n",
       "349  Bothell     2  1.500000   1036.00000   350000\n",
       "\n",
       "[335 rows x 5 columns]"
      ]
     },
     "execution_count": 6,
     "metadata": {},
     "output_type": "execute_result"
    }
   ],
   "source": [
    "dataBase.dropna(how='all')\n",
    "dataBase.fillna(dataBase.mean())"
   ]
  },
  {
   "cell_type": "code",
   "execution_count": 7,
   "metadata": {},
   "outputs": [
    {
     "data": {
      "text/html": [
       "<div>\n",
       "<style scoped>\n",
       "    .dataframe tbody tr th:only-of-type {\n",
       "        vertical-align: middle;\n",
       "    }\n",
       "\n",
       "    .dataframe tbody tr th {\n",
       "        vertical-align: top;\n",
       "    }\n",
       "\n",
       "    .dataframe thead th {\n",
       "        text-align: right;\n",
       "    }\n",
       "</style>\n",
       "<table border=\"1\" class=\"dataframe\">\n",
       "  <thead>\n",
       "    <tr style=\"text-align: right;\">\n",
       "      <th></th>\n",
       "      <th>CITY</th>\n",
       "      <th>BEDS</th>\n",
       "      <th>BATHS</th>\n",
       "      <th>SQUARE FEET</th>\n",
       "    </tr>\n",
       "  </thead>\n",
       "  <tbody>\n",
       "    <tr>\n",
       "      <th>0</th>\n",
       "      <td>1</td>\n",
       "      <td>3</td>\n",
       "      <td>1.50</td>\n",
       "      <td>1232.0</td>\n",
       "    </tr>\n",
       "    <tr>\n",
       "      <th>1</th>\n",
       "      <td>1</td>\n",
       "      <td>2</td>\n",
       "      <td>1.00</td>\n",
       "      <td>887.0</td>\n",
       "    </tr>\n",
       "    <tr>\n",
       "      <th>2</th>\n",
       "      <td>1</td>\n",
       "      <td>2</td>\n",
       "      <td>2.00</td>\n",
       "      <td>1018.0</td>\n",
       "    </tr>\n",
       "    <tr>\n",
       "      <th>3</th>\n",
       "      <td>1</td>\n",
       "      <td>4</td>\n",
       "      <td>2.50</td>\n",
       "      <td>1854.0</td>\n",
       "    </tr>\n",
       "    <tr>\n",
       "      <th>4</th>\n",
       "      <td>1</td>\n",
       "      <td>4</td>\n",
       "      <td>2.75</td>\n",
       "      <td>2111.0</td>\n",
       "    </tr>\n",
       "  </tbody>\n",
       "</table>\n",
       "</div>"
      ],
      "text/plain": [
       "   CITY  BEDS  BATHS  SQUARE FEET\n",
       "0     1     3   1.50       1232.0\n",
       "1     1     2   1.00        887.0\n",
       "2     1     2   2.00       1018.0\n",
       "3     1     4   2.50       1854.0\n",
       "4     1     4   2.75       2111.0"
      ]
     },
     "execution_count": 7,
     "metadata": {},
     "output_type": "execute_result"
    }
   ],
   "source": [
    "feature_cols = ['CITY','BEDS','BATHS','SQUARE FEET']\n",
    "dataBase['CITY']= p.factorize(dataBase['CITY'])[0] + 1\n",
    "X = dataBase[feature_cols]\n",
    "X.head()"
   ]
  },
  {
   "cell_type": "code",
   "execution_count": 8,
   "metadata": {},
   "outputs": [
    {
     "data": {
      "text/plain": [
       "(335,)"
      ]
     },
     "execution_count": 8,
     "metadata": {},
     "output_type": "execute_result"
    }
   ],
   "source": [
    "Y = dataBase['PRICE']\n",
    "Y.shape"
   ]
  },
  {
   "cell_type": "code",
   "execution_count": 9,
   "metadata": {},
   "outputs": [],
   "source": [
    "#spit data to training set , testing set, validating set (60 - 20 - 20)\n",
    "x_train = X[:math.floor(len(X) * 0.6)]\n",
    "y_train = Y[:math.floor(len(Y) * 0.6)]\n",
    "\n",
    "x_val = X[math.floor(len(X) * 0.6):math.floor(len(X) * 0.8)]\n",
    "y_val = Y[math.floor(len(Y) * 0.6):math.floor(len(Y) * 0.8)]\n",
    "\n",
    "x_test =  X[math.floor(len(X) * 0.8):]\n",
    "y_test =  Y[math.floor(len(Y) * 0.8):]"
   ]
  },
  {
   "cell_type": "code",
   "execution_count": 10,
   "metadata": {},
   "outputs": [
    {
     "data": {
      "text/plain": [
       "[<matplotlib.lines.Line2D at 0x191038596d8>]"
      ]
     },
     "execution_count": 10,
     "metadata": {},
     "output_type": "execute_result"
    },
    {
     "data": {
      "image/png": "[encoded data removed]",
      "text/plain": [
       "<Figure size 432x288 with 1 Axes>"
      ]
     },
     "metadata": {
      "needs_background": "light"
     },
     "output_type": "display_data"
    }
   ],
   "source": [
    "#Determine equation using training data - {(xT . x)-1 . xT.y = theta}\n",
    "x_T = n.transpose(x_train)\n",
    "xTx = n.matmul(x_T,x_train)\n",
    "i_xTx = n.linalg.inv(xTx)\n",
    "xT_y = n.matmul(x_T,y_train)\n",
    "theta = n.matmul(i_xTx,xT_y)\n",
    "m.plot(theta)"
   ]
  },
  {
   "cell_type": "code",
   "execution_count": 11,
   "metadata": {},
   "outputs": [],
   "source": [
    "#now find the cost function with validation data set\n",
    "xVal_Th = n.matmul(x_val,theta)\n",
    "cost = (xVal_Th - y_val) ** 2\n",
    "mse = n.sum(cost)"
   ]
  },
  {
   "cell_type": "code",
   "execution_count": 12,
   "metadata": {},
   "outputs": [
    {
     "name": "stdout",
     "output_type": "stream",
     "text": [
      "12362.740626284167\n"
     ]
    }
   ],
   "source": [
    "rmse = n.sqrt(mse)/len(cost)\n",
    "print(rmse)"
   ]
  },
  {
   "cell_type": "code",
   "execution_count": 13,
   "metadata": {},
   "outputs": [],
   "source": [
    "new_Y = n.matmul ( x_test ,theta )"
   ]
  },
  {
   "cell_type": "code",
   "execution_count": 14,
   "metadata": {},
   "outputs": [
    {
     "name": "stdout",
     "output_type": "stream",
     "text": [
      "**************** Prediction using #beds **********************\n"
     ]
    },
    {
     "data": {
      "image/png": "[encoded data removed]",
      "text/plain": [
       "<Figure size 432x288 with 1 Axes>"
      ]
     },
     "metadata": {
      "needs_background": "light"
     },
     "output_type": "display_data"
    },
    {
     "name": "stdout",
     "output_type": "stream",
     "text": [
      "**************** Testing Data Plot using #beds **********************\n"
     ]
    },
    {
     "data": {
      "image/png": "[encoded data removed]",
      "text/plain": [
       "<Figure size 432x288 with 1 Axes>"
      ]
     },
     "metadata": {
      "needs_background": "light"
     },
     "output_type": "display_data"
    }
   ],
   "source": [
    "print(\"**************** Prediction using #beds **********************\")\n",
    "m.scatter(x_test['BEDS'],new_Y)\n",
    "m.xlabel(\"Number of Beds\")\n",
    "m.ylabel(\"Price\")\n",
    "m.show()\n",
    "\n",
    "print(\"**************** Testing Data Plot using #beds **********************\")\n",
    "m.scatter(x_test['BEDS'],y_test)\n",
    "m.xlabel(\"Number of Beds\")\n",
    "m.ylabel(\"Price\")\n",
    "m.show()"
   ]
  },
  {
   "cell_type": "code",
   "execution_count": 15,
   "metadata": {},
   "outputs": [
    {
     "name": "stdout",
     "output_type": "stream",
     "text": [
      "**************** Prediction using #Baths **********************\n"
     ]
    },
    {
     "data": {
      "image/png": "[encoded data removed]",
      "text/plain": [
       "<Figure size 432x288 with 1 Axes>"
      ]
     },
     "metadata": {
      "needs_background": "light"
     },
     "output_type": "display_data"
    },
    {
     "name": "stdout",
     "output_type": "stream",
     "text": [
      "**************** Testing Data Plot using #Baths **********************\n"
     ]
    },
    {
     "data": {
      "image/png": "[encoded data removed]",
      "text/plain": [
       "<Figure size 432x288 with 1 Axes>"
      ]
     },
     "metadata": {
      "needs_background": "light"
     },
     "output_type": "display_data"
    }
   ],
   "source": [
    "print(\"**************** Prediction using #Baths **********************\")\n",
    "m.scatter(x_test['BATHS'],new_Y)\n",
    "m.xlabel(\"Number of Bath\")\n",
    "m.ylabel(\"Price\")\n",
    "m.show()\n",
    "\n",
    "print(\"**************** Testing Data Plot using #Baths **********************\")\n",
    "m.scatter(x_test['BATHS'],y_test)\n",
    "m.xlabel(\"Number of Bath\")\n",
    "m.ylabel(\"Price\")\n",
    "m.show()"
   ]
  },
  {
   "cell_type": "code",
   "execution_count": 16,
   "metadata": {},
   "outputs": [
    {
     "name": "stdout",
     "output_type": "stream",
     "text": [
      "**************** Prediction using SQUARE FEET **********************\n"
     ]
    },
    {
     "data": {
      "image/png": "[encoded data removed]",
      "text/plain": [
       "<Figure size 432x288 with 1 Axes>"
      ]
     },
     "metadata": {
      "needs_background": "light"
     },
     "output_type": "display_data"
    },
    {
     "name": "stdout",
     "output_type": "stream",
     "text": [
      "**************** Testing Data Plot using SQUARE FEET **********************\n"
     ]
    },
    {
     "data": {
      "image/png": "[encoded data removed]",
      "text/plain": [
       "<Figure size 432x288 with 1 Axes>"
      ]
     },
     "metadata": {
      "needs_background": "light"
     },
     "output_type": "display_data"
    }
   ],
   "source": [
    "print(\"**************** Prediction using SQUARE FEET **********************\")\n",
    "m.scatter(x_test['SQUARE FEET'],new_Y)\n",
    "m.xlabel(\"Square Feet\")\n",
    "m.ylabel(\"Price\")\n",
    "m.show()\n",
    "print(\"**************** Testing Data Plot using SQUARE FEET **********************\")\n",
    "m.scatter(x_test['SQUARE FEET'],y_test)\n",
    "m.xlabel(\"Square Feet\")\n",
    "m.ylabel(\"Price\")\n",
    "m.show()\n"
   ]
  },
  {
   "cell_type": "code",
   "execution_count": 17,
   "metadata": {},
   "outputs": [
    {
     "name": "stderr",
     "output_type": "stream",
     "text": [
      "D:\\Anaconda\\lib\\site-packages\\numpy\\lib\\histograms.py:754: RuntimeWarning: invalid value encountered in greater_equal\n",
      "  keep = (tmp_a >= first_edge)\n",
      "D:\\Anaconda\\lib\\site-packages\\numpy\\lib\\histograms.py:755: RuntimeWarning: invalid value encountered in less_equal\n",
      "  keep &= (tmp_a <= last_edge)\n"
     ]
    },
    {
     "data": {
      "text/plain": [
       "Text(0.5, 1.0, 'Actual Result')"
      ]
     },
     "execution_count": 17,
     "metadata": {},
     "output_type": "execute_result"
    },
    {
     "data": {
      "image/png": "[encoded data removed]",
      "text/plain": [
       "<Figure size 1152x288 with 2 Axes>"
      ]
     },
     "metadata": {
      "needs_background": "light"
     },
     "output_type": "display_data"
    }
   ],
   "source": [
    "fig, arr = m.subplots(nrows=1, ncols=2, sharex=False, sharey=True)\n",
    "\n",
    "fig.set_figwidth(16)\n",
    "fig.set_figheight(4)\n",
    "\n",
    "arr[0].hist(new_Y)\n",
    "arr[0].set_title('Predicted Result')\n",
    "\n",
    "arr[1].hist(y_test)\n",
    "arr[1].set_title('Actual Result')"
   ]
  },
  {
   "cell_type": "code",
   "execution_count": null,
   "metadata": {},
   "outputs": [],
   "source": []
  }
 ],
 "metadata": {
  "kernelspec": {
   "display_name": "Python 3",
   "language": "python",
   "name": "python3"
  },
  "language_info": {
   "codemirror_mode": {
    "name": "ipython",
    "version": 3
   },
   "file_extension": ".py",
   "mimetype": "text/x-python",
   "name": "python",
   "nbconvert_exporter": "python",
   "pygments_lexer": "ipython3",
   "version": "3.7.1"
  }
 },
 "nbformat": 4,
 "nbformat_minor": 2
}
