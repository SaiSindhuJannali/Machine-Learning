{
 "cells": [
  {
   "cell_type": "code",
   "execution_count": 1,
   "metadata": {},
   "outputs": [],
   "source": [
    "import pandas as p\n",
    "from pandas import DataFrame\n",
    "import numpy as n\n",
    "import matplotlib.pyplot as m\n",
    "import math as math\n",
    "n.random.seed(6)\n",
    "from sklearn.model_selection import train_test_split"
   ]
  },
  {
   "cell_type": "code",
   "execution_count": 2,
   "metadata": {},
   "outputs": [],
   "source": [
    "data = n.array([])\n",
    "for x in range(1,11):\n",
    "    for y in range(1,11):\n",
    "        data = n.append(data,[x,y,x/y])\n",
    "data = data.reshape(100,3)\n",
    "n.random.shuffle(data)"
   ]
  },
  {
   "cell_type": "code",
   "execution_count": 3,
   "metadata": {},
   "outputs": [],
   "source": [
    "def NoFun(x):\n",
    "    return x\n",
    "\n",
    "def NoFun_Derivative(x):\n",
    "    return 1\n",
    "\n",
    "def ReLU(x):\n",
    "    return n.maximum(x,0)\n",
    "\n",
    "def dReLU(x):\n",
    "    x[x<=0] = 0\n",
    "    x[x>0] = 1\n",
    "    return x"
   ]
  },
  {
   "cell_type": "code",
   "execution_count": 4,
   "metadata": {},
   "outputs": [],
   "source": [
    "#FEED FORWARDING AND BACK PROPAGATION\n",
    "maxiter = 300000\n",
    "#train and test data split\n",
    "train, test = train_test_split(data, test_size=0.2)\n",
    "\n",
    "XY = train[:,0:2].T\n",
    "Output = train[:,2].T\n",
    "\n",
    "#Weights\n",
    "w0 = n.random.rand(3,2)\n",
    "w1 = n.random.rand(5,3)\n",
    "w2 = n.random.rand(4,5)\n",
    "w3 = n.random.rand(5,4)\n",
    "w4 = n.random.rand(1,5)\n",
    "\n",
    "for i in range(maxiter):\n",
    "    #input later\n",
    "    z0 = XY\n",
    "    o0 = z0\n",
    "\n",
    "    #First hidden layer with 3 neurons\n",
    "    z1 = n.matmul(w0,o0)\n",
    "    o1 = ReLU(z1)\n",
    "\n",
    "    #second hidden layer with 5 neurons\n",
    "    z2 = n.matmul(w1,o1)\n",
    "    o2 = ReLU(z2)\n",
    "\n",
    "    # 3rd layer\n",
    "    z3 = n.matmul(w2,o2)\n",
    "    o3 = ReLU(z3)\n",
    "    \n",
    "    z4 = n.matmul(w3,o3)\n",
    "    o4 = ReLU(z4)\n",
    "    \n",
    "    z5 = n.matmul(w4,o4)\n",
    "    o5 = z5\n",
    "\n",
    "    loss5 = o5 - Output\n",
    "    dFun = dReLU(z5)\n",
    "    lossFun = n.multiply(loss5,dFun)\n",
    "    loss4 = n.matmul(w4.T, lossFun)\n",
    "    d_w4 = n.matmul( lossFun, o4.T ) \n",
    "\n",
    "    dFun = dReLU(z4)\n",
    "    lossFun = n.multiply(loss4,dFun)\n",
    "    loss3 = n.matmul(w3.T, lossFun)\n",
    "    d_w3 = n.matmul( lossFun, o3.T ) \n",
    "\n",
    "    dFun = dReLU(z3)\n",
    "    lossFun = n.multiply(loss3,dFun)\n",
    "    loss2 = n.matmul(w2.T, lossFun)\n",
    "    d_w2 = n.matmul( lossFun, o2.T )\n",
    "    \n",
    "    dFun = dReLU(z2)\n",
    "    lossFun = n.multiply(loss2,dFun)\n",
    "    loss1 = n.matmul(w1.T, lossFun)\n",
    "    d_w1 = n.matmul( lossFun, o1.T )\n",
    "    \n",
    "    dFun = dReLU(z1)\n",
    "    lossFun = n.multiply(loss1,dFun)\n",
    "    loss0 = n.matmul(w0.T, lossFun)\n",
    "    d_w0 = n.matmul( lossFun, o0.T )\n",
    "\n",
    "    eta = 0.0000001\n",
    "    w0 -= eta * d_w0\n",
    "    w1 -= eta * d_w1\n",
    "    w2 -= eta * d_w2\n",
    "    w3 -= eta * d_w3\n",
    "    w4 -= eta * d_w4\n"
   ]
  },
  {
   "cell_type": "code",
   "execution_count": 5,
   "metadata": {},
   "outputs": [],
   "source": [
    "#Testing the Weights\n",
    "XY = test[:,0:2].T\n",
    "Output = test[:,2].T\n",
    "\n",
    "z0 = XY\n",
    "o0 = z0\n",
    "\n",
    "#First hidden layer with 3 neurons\n",
    "z1 = n.matmul(w0,o0)\n",
    "o1 = ReLU(z1)\n",
    "\n",
    "#second hidden layer with 5 neurons\n",
    "z2 = n.matmul(w1,o1)\n",
    "o2 = ReLU(z2)\n",
    "\n",
    "# 3rd layer\n",
    "z3 = n.matmul(w2,o2)\n",
    "o3 = ReLU(z3)\n",
    "\n",
    "z4 = n.matmul(w3,o3)\n",
    "o4 = ReLU(z4)\n",
    "\n",
    "z5 = n.matmul(w4,o4)\n",
    "o5 = z5"
   ]
  },
  {
   "cell_type": "code",
   "execution_count": 6,
   "metadata": {},
   "outputs": [
    {
     "name": "stdout",
     "output_type": "stream",
     "text": [
      "[[ 3.99632406  0.5618869   0.82971384  1.03007881  2.4021834   3.37516131\n",
      "   0.89051033  1.13242379  0.23957296  0.20036496  0.40505492  0.16115697\n",
      "   1.69855308  1.0496828   0.42465892  1.35671774  1.39592574  0.68383587\n",
      "   1.51167308  0.5422829 ]\n",
      " [ 5.32292989  1.71311831  2.32833019  2.94816546  3.7601299   4.55784879\n",
      "   1.4975244   3.20203193  0.76622281  0.61983528  1.12756821  0.47344775\n",
      "   3.69485431  3.02135923  1.20076197  3.78295862  3.92934615  2.04017854\n",
      "   2.2626055   1.63992455]\n",
      " [13.73378553  6.60470736  8.24332788 10.66561197 10.67097896 11.86749752\n",
      "   4.40234547 11.43253378  3.084429    2.42228409  3.95612771  1.76013918\n",
      "  12.01051786 10.99668442  4.28720017 13.29744985 13.95959476  7.70270162\n",
      "   6.26863348  6.2736349 ]\n",
      " [ 3.16190874  0.40223383  0.75247627  0.88886494  1.96009064  2.6770502\n",
      "   0.73761605  1.00792314  0.14332085  0.13638867  0.37450509  0.12945649\n",
      "   1.49588858  0.89233103  0.37797118  1.24950565  1.25643784  0.52475813\n",
      "   1.22247459  0.39876773]]\n"
     ]
    }
   ],
   "source": [
    "print(o3)"
   ]
  },
  {
   "cell_type": "code",
   "execution_count": 9,
   "metadata": {},
   "outputs": [
    {
     "name": "stdout",
     "output_type": "stream",
     "text": [
      "0.1211269278429196\n"
     ]
    }
   ],
   "source": [
    "error = ( ( o5 - Output ) ** 2 ) / 2\n",
    "MSE = n.sum(error) \n",
    "RMSE = n.sqrt(MSE) / n.size(error)\n",
    "print (RMSE)"
   ]
  },
  {
   "cell_type": "code",
   "execution_count": 10,
   "metadata": {},
   "outputs": [
    {
     "data": {
      "text/plain": [
       "Text(0, 0.5, 'Output')"
      ]
     },
     "execution_count": 10,
     "metadata": {},
     "output_type": "execute_result"
    },
    {
     "data": {
      "image/png": "[encoded data removed]",
      "text/plain": [
       "<Figure size 1152x1080 with 4 Axes>"
      ]
     },
     "metadata": {
      "needs_background": "light"
     },
     "output_type": "display_data"
    }
   ],
   "source": [
    "\n",
    "\n",
    "fig, arr = m.subplots(nrows=2, ncols=2, sharex=False, sharey=True)\n",
    "\n",
    "fig.set_figwidth(16)\n",
    "fig.set_figheight(15)\n",
    "\n",
    "arr[0][0].scatter (XY[0,:], o5, c='r' )\n",
    "arr[0][0].set_title('Predicted Result')\n",
    "arr[0][0].set_xlabel('X')\n",
    "arr[0][0].set_ylabel('Output')\n",
    "\n",
    "arr[0][1].scatter (XY[0,:], Output, c='b' )\n",
    "arr[0][1].set_title('Actual Result')\n",
    "arr[0][1].set_xlabel('X')\n",
    "arr[0][1].set_ylabel('Output')\n",
    "\n",
    "arr[1][0].scatter (XY[1,:], o5, c='r' )\n",
    "arr[1][0].set_title('Predicted Result')\n",
    "arr[1][0].set_xlabel('Y]')\n",
    "arr[1][0].set_ylabel('Output')\n",
    "\n",
    "arr[1][1].scatter (XY[1,:], Output, c='b' )\n",
    "arr[1][1].set_title('Actual Result')\n",
    "arr[1][1].set_xlabel('Y')\n",
    "arr[1][1].set_ylabel('Output')"
   ]
  },
  {
   "cell_type": "code",
   "execution_count": null,
   "metadata": {},
   "outputs": [],
   "source": []
  }
 ],
 "metadata": {
  "kernelspec": {
   "display_name": "Python 3",
   "language": "python",
   "name": "python3"
  },
  "language_info": {
   "codemirror_mode": {
    "name": "ipython",
    "version": 3
   },
   "file_extension": ".py",
   "mimetype": "text/x-python",
   "name": "python",
   "nbconvert_exporter": "python",
   "pygments_lexer": "ipython3",
   "version": "3.7.1"
  }
 },
 "nbformat": 4,
 "nbformat_minor": 2
}
