{
 "cells": [
  {
   "cell_type": "code",
   "execution_count": 1,
   "metadata": {},
   "outputs": [],
   "source": [
    "import pandas as p\n",
    "from pandas import DataFrame\n",
    "import numpy as n\n",
    "import matplotlib.pyplot as m\n",
    "import math as math\n",
    "n.random.seed(6)\n",
    "from sklearn import datasets, linear_model\n",
    "from sklearn.model_selection import train_test_split"
   ]
  },
  {
   "cell_type": "code",
   "execution_count": 17,
   "metadata": {},
   "outputs": [
    {
     "name": "stdout",
     "output_type": "stream",
     "text": [
      "     No  Sepal Length  Sepal Width  Petal Length  Petal Width        Species\n",
      "0     1           5.1          3.5           1.4          0.2      I. setosa\n",
      "1     2           4.9          3.0           1.4          0.2      I. setosa\n",
      "2     3           4.7          3.2           1.3          0.2      I. setosa\n",
      "3     4           4.6          3.1           1.5          0.2      I. setosa\n",
      "4     5           5.0          3.6           1.4          0.3      I. setosa\n",
      "5     6           5.4          3.9           1.7          0.4      I. setosa\n",
      "6     7           4.6          3.4           1.4          0.3      I. setosa\n",
      "7     8           5.0          3.4           1.5          0.2      I. setosa\n",
      "8     9           4.4          2.9           1.4          0.2      I. setosa\n",
      "9    10           4.9          3.1           1.5          0.1      I. setosa\n",
      "10   11           5.4          3.7           1.5          0.2      I. setosa\n",
      "11   12           4.8          3.4           1.6          0.2      I. setosa\n",
      "12   13           4.8          3.0           1.4          0.1      I. setosa\n",
      "13   14           4.3          3.0           1.1          0.1      I. setosa\n",
      "14   15           5.8          4.0           1.2          0.2      I. setosa\n",
      "15   16           5.7          4.4           1.5          0.4      I. setosa\n",
      "16   17           5.4          3.9           1.3          0.4      I. setosa\n",
      "17   18           5.1          3.5           1.4          0.3      I. setosa\n",
      "18   19           5.7          3.8           1.7          0.3      I. setosa\n",
      "19   20           5.1          3.8           1.5          0.3      I. setosa\n",
      "20   21           5.4          3.4           1.7          0.2      I. setosa\n",
      "21   22           5.1          3.7           1.5          0.4      I. setosa\n",
      "22   23           4.6          3.6           1.0          0.2      I. setosa\n",
      "23   24           5.1          3.3           1.7          0.5      I. setosa\n",
      "24   25           4.8          3.4           1.9          0.2      I. setosa\n",
      "25   26           5.0          3.0           1.6          0.2      I. setosa\n",
      "26   27           5.0          3.4           1.6          0.4      I. setosa\n",
      "27   28           5.2          3.5           1.5          0.2      I. setosa\n",
      "28   29           5.2          3.4           1.4          0.2      I. setosa\n",
      "29   30           4.7          3.2           1.6          0.2      I. setosa\n",
      "..  ...           ...          ...           ...          ...            ...\n",
      "70   71           5.9          3.2           4.8          1.8  I. versicolor\n",
      "71   72           6.1          2.8           4.0          1.3  I. versicolor\n",
      "72   73           6.3          2.5           4.9          1.5  I. versicolor\n",
      "73   74           6.1          2.8           4.7          1.2  I. versicolor\n",
      "74   75           6.4          2.9           4.3          1.3  I. versicolor\n",
      "75   76           6.6          3.0           4.4          1.4  I. versicolor\n",
      "76   77           6.8          2.8           4.8          1.4  I. versicolor\n",
      "77   78           6.7          3.0           5.0          1.7  I. versicolor\n",
      "78   79           6.0          2.9           4.5          1.5  I. versicolor\n",
      "79   80           5.7          2.6           3.5          1.0  I. versicolor\n",
      "80   81           5.5          2.4           3.8          1.1  I. versicolor\n",
      "81   82           5.5          2.4           3.7          1.0  I. versicolor\n",
      "82   83           5.8          2.7           3.9          1.2  I. versicolor\n",
      "83   84           6.0          2.7           5.1          1.6  I. versicolor\n",
      "84   85           5.4          3.0           4.5          1.5  I. versicolor\n",
      "85   86           6.0          3.4           4.5          1.6  I. versicolor\n",
      "86   87           6.7          3.1           4.7          1.5  I. versicolor\n",
      "87   88           6.3          2.3           4.4          1.3  I. versicolor\n",
      "88   89           5.6          3.0           4.1          1.3  I. versicolor\n",
      "89   90           5.5          2.5           4.0          1.3  I. versicolor\n",
      "90   91           5.5          2.6           4.4          1.2  I. versicolor\n",
      "91   92           6.1          3.0           4.6          1.4  I. versicolor\n",
      "92   93           5.8          2.6           4.0          1.2  I. versicolor\n",
      "93   94           5.0          2.3           3.3          1.0  I. versicolor\n",
      "94   95           5.6          2.7           4.2          1.3  I. versicolor\n",
      "95   96           5.7          3.0           4.2          1.2  I. versicolor\n",
      "96   97           5.7          2.9           4.2          1.3  I. versicolor\n",
      "97   98           6.2          2.9           4.3          1.3  I. versicolor\n",
      "98   99           5.1          2.5           3.0          1.1  I. versicolor\n",
      "99  100           5.7          2.8           4.1          1.3  I. versicolor\n",
      "\n",
      "[100 rows x 6 columns]\n"
     ]
    }
   ],
   "source": [
    "df = p.read_csv(\"Iris_DataSet.csv\")\n",
    "print(df)\n",
    "df = df.drop(['No'],axis=1)\n",
    "Y = []\n",
    "target = df['Species']\n",
    "for val in target:\n",
    "    if(val == 'I. setosa'):\n",
    "        Y.append(-1)\n",
    "    else:\n",
    "        Y.append(1)\n",
    "df = df.drop(['Species'],axis=1)\n",
    "X = df.values.tolist()"
   ]
  },
  {
   "cell_type": "code",
   "execution_count": 18,
   "metadata": {},
   "outputs": [
    {
     "name": "stdout",
     "output_type": "stream",
     "text": [
      "Rows: 70 Cols :  4\n"
     ]
    }
   ],
   "source": [
    "x_train, x_test, y_train, y_test = train_test_split(X, Y, test_size=0.3)\n",
    "\n",
    "x_train = n.asmatrix(x_train)\n",
    "x_test =  n.asmatrix(x_test)\n",
    "y_train = n.asmatrix(y_train)\n",
    "y_test =  n.asmatrix(y_test)\n",
    "\n",
    "y_train = y_train.reshape(y_train.shape[1],1)\n",
    "\n",
    "\n",
    "rows = n.size(x_train,0)\n",
    "cols = n.size(x_train,1)\n",
    "\n",
    "print(\"Rows:\" , rows , \"Cols : \",cols)\n",
    "\n",
    "itr = 1\n",
    "eta = 0.001\n",
    "alpha = n.asmatrix(n.random.random_sample((rows,1)))\n"
   ]
  },
  {
   "cell_type": "code",
   "execution_count": 19,
   "metadata": {},
   "outputs": [],
   "source": [
    "for itr in range(100):\n",
    "    i = int(n.random.rand(1)* rows)\n",
    "    sm = 0\n",
    "    for j in range(rows):\n",
    "        sm += alpha[j] * y_train[j] * y_train[i] * (x_train[j] * x_train[i].T)\n",
    "        \n",
    "    grad = 1 - sm\n",
    "    alpha[i] += eta * grad\n",
    "    alpha[i] = max(min(alpha[i],10),0)\n",
    "    j = int(n.random.rand(1)* rows)\n",
    "    sm2 = 0\n",
    "    for k in range(rows):\n",
    "        if j != k:\n",
    "            sm2 += alpha[k]*y_train[k]\n",
    "    alpha[j] = -y_train[j] * sm2\n",
    "    alpha[j] = max(min(alpha[j],10),0)"
   ]
  },
  {
   "cell_type": "code",
   "execution_count": 20,
   "metadata": {},
   "outputs": [
    {
     "name": "stdout",
     "output_type": "stream",
     "text": [
      "[[15.90477714 -8.26055269 41.9014581  15.68790449]]\n"
     ]
    }
   ],
   "source": [
    "w = n.asmatrix(n.zeros(cols))\n",
    "for j in range(rows):\n",
    "    w+= alpha[j]*y_train[j]*x_train[j]\n",
    "    \n",
    "print(w)\n"
   ]
  },
  {
   "cell_type": "code",
   "execution_count": 21,
   "metadata": {},
   "outputs": [],
   "source": [
    "negsup = 100000000\n",
    "pozsup = 100000000\n",
    "for k in range(rows):\n",
    "    if y_train[k] == 1:\n",
    "        if w * x_train[k].T < negsup:\n",
    "            re = w * x_train[k].T\n",
    "            indneg = k\n",
    "    else:\n",
    "        if w * x_train[k].T < pozsup:\n",
    "            re = w * x_train[k].T\n",
    "            indpoz = k\n",
    "\n",
    "b = -0.5*( w*x_train[indneg].T + w*x_train[indpoz].T )"
   ]
  },
  {
   "cell_type": "code",
   "execution_count": 22,
   "metadata": {},
   "outputs": [],
   "source": [
    "def compute(W, b, x_test_a ):\n",
    "    compute = n.dot(x_test_a,W.T) + b.T\n",
    "    sign = n.copy(compute)\n",
    "    compute[sign < 0] = -1\n",
    "    compute[sign > 0] = 1\n",
    "    return compute"
   ]
  },
  {
   "cell_type": "code",
   "execution_count": 23,
   "metadata": {},
   "outputs": [
    {
     "name": "stdout",
     "output_type": "stream",
     "text": [
      "100.0 % is the acc\n"
     ]
    }
   ],
   "source": [
    "predict_Y = compute(w,b,x_test)\n",
    "predict_Y = n.squeeze( n.asarray(predict_Y) )\n",
    "Y = n.squeeze(n.asarray(y_test))\n",
    "\n",
    "res=n.zeros(n.size(x_test,0))\n",
    "acc=0\n",
    "for k in range(len(predict_Y)):\n",
    "    if predict_Y[k] == Y[k]:\n",
    "        acc+=1\n",
    "acc=acc/30\n",
    "print(acc*100,\"% is the acc\")"
   ]
  },
  {
   "cell_type": "code",
   "execution_count": 24,
   "metadata": {},
   "outputs": [
    {
     "name": "stdout",
     "output_type": "stream",
     "text": [
      "**************** Prediction using SEPAL LENGTH & WIDTH **********************\n"
     ]
    },
    {
     "data": {
      "image/png": "[encoded data removed]",
      "text/plain": [
       "<Figure size 432x288 with 1 Axes>"
      ]
     },
     "metadata": {
      "needs_background": "light"
     },
     "output_type": "display_data"
    },
    {
     "name": "stdout",
     "output_type": "stream",
     "text": [
      "**************** Prediction using PETAL LENGTH & WIDTH **********************\n"
     ]
    },
    {
     "data": {
      "image/png": "[encoded data removed]",
      "text/plain": [
       "<Figure size 432x288 with 1 Axes>"
      ]
     },
     "metadata": {
      "needs_background": "light"
     },
     "output_type": "display_data"
    }
   ],
   "source": [
    "X = n.squeeze(n.asarray(x_test))\n",
    "\n",
    "print(\"**************** Prediction using SEPAL LENGTH & WIDTH **********************\")\n",
    "y = n.squeeze(n.asarray(predict_Y))\n",
    "m.scatter(X[:, 0], X[:, 1], c=y, cmap=m.cm.coolwarm)\n",
    "m.xlabel('Sepal length')\n",
    "m.ylabel('Sepal width')\n",
    "m.show()\n",
    "\n",
    "print(\"**************** Prediction using PETAL LENGTH & WIDTH **********************\")\n",
    "y = n.squeeze(n.asarray(predict_Y))\n",
    "m.scatter(X[:, 2], X[:, 3], c=y, cmap=m.cm.coolwarm)\n",
    "m.xlabel('Petal length')\n",
    "m.ylabel('Petal width')\n",
    "m.show()"
   ]
  },
  {
   "cell_type": "code",
   "execution_count": null,
   "metadata": {},
   "outputs": [],
   "source": []
  },
  {
   "cell_type": "code",
   "execution_count": null,
   "metadata": {},
   "outputs": [],
   "source": []
  },
  {
   "cell_type": "code",
   "execution_count": null,
   "metadata": {},
   "outputs": [],
   "source": []
  },
  {
   "cell_type": "code",
   "execution_count": null,
   "metadata": {},
   "outputs": [],
   "source": []
  }
 ],
 "metadata": {
  "kernelspec": {
   "display_name": "Python 3",
   "language": "python",
   "name": "python3"
  },
  "language_info": {
   "codemirror_mode": {
    "name": "ipython",
    "version": 3
   },
   "file_extension": ".py",
   "mimetype": "text/x-python",
   "name": "python",
   "nbconvert_exporter": "python",
   "pygments_lexer": "ipython3",
   "version": "3.7.1"
  }
 },
 "nbformat": 4,
 "nbformat_minor": 2
}
