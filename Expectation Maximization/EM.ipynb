{
 "cells": [
  {
   "cell_type": "code",
   "execution_count": 1,
   "metadata": {},
   "outputs": [],
   "source": [
    "import numpy as np\n",
    "import matplotlib.pyplot as plt\n",
    "import pandas as pd\n",
    "import math as math\n",
    "from collections import OrderedDict, defaultdict"
   ]
  },
  {
   "cell_type": "code",
   "execution_count": 2,
   "metadata": {},
   "outputs": [],
   "source": [
    "dataSet = pd.read_csv(\"Faithful.csv\",header=None)\n",
    "dataSet.columns = [\"No\", \"Eruptions\", \"Waiting Time\"]\n"
   ]
  },
  {
   "cell_type": "markdown",
   "metadata": {},
   "source": [
    "### Split data"
   ]
  },
  {
   "cell_type": "code",
   "execution_count": 3,
   "metadata": {},
   "outputs": [],
   "source": [
    "training_data = dataSet[:250]\n",
    "testing_data = dataSet[250:]\n",
    "\n",
    "train_X = training_data[[\"Eruptions\"]].values\n",
    "train_Y = training_data[[\"Waiting Time\"]].values\n",
    "\n",
    "test_X = testing_data[[\"Eruptions\"]].values\n",
    "test_Y = testing_data[[\"Waiting Time\"]].values"
   ]
  },
  {
   "cell_type": "markdown",
   "metadata": {},
   "source": [
    "### Definitions  "
   ]
  },
  {
   "cell_type": "code",
   "execution_count": 4,
   "metadata": {},
   "outputs": [],
   "source": [
    "def trainData(x,k = 2):\n",
    "    n = x.shape[0]\n",
    "    p = x.shape[1]\n",
    "\n",
    "    phi = np.random.rand(k,p)\n",
    "    sigma_phi = np.sum(phi)\n",
    "    phi = phi/sigma_phi\n",
    "    mu = np.random.rand(k,p)\n",
    "    sigma = np.random.rand(k,p)    \n",
    "    w = np.ndarray(shape=(n,k,p))\n",
    "    preW = np.ndarray(shape=(p))\n",
    "    itr = 0\n",
    "    isConverged = False\n",
    "    \n",
    "    while not isConverged:\n",
    "        if itr >= 1000:\n",
    "            break\n",
    "        itr+=1\n",
    "\n",
    "        sum_of_all_probability = np.zeros((n,1,p))\n",
    "        probability = np.zeros((n,k,p))\n",
    "        for i in range(n):\n",
    "            for j in range(k):\n",
    "                dij = x[i] - mu[j] \n",
    "                dijSquare = - ( dij.T * dij )\n",
    "                sigSquare = 2 * sigma[j]**2\n",
    "                tempExp = np.exp( dijSquare / sigSquare )\n",
    "                constant = 1 / ( (2*math.pi)**(p/2) * sigma[j] )\n",
    "                probability[i,j] = ( constant * tempExp * phi[j] )\n",
    "                sum_of_all_probability[i] += probability[i,j]\n",
    "\n",
    "        preW = np.copy(w)\n",
    "        for i in range(n):\n",
    "                for j in range(k):\n",
    "                    w[i,j] = probability[i,j] / sum_of_all_probability[i]\n",
    "        \n",
    "        if (preW == w).all():\n",
    "            isConverged = True\n",
    "            \n",
    "        for j in range(k):\n",
    "            sum_W_X_MU = 1\n",
    "            sum_W_X = 1\n",
    "            sum_W = 2\n",
    "            \n",
    "            for i in range(n):\n",
    "                sum_W_X +=  w[i,j] * x[i]\n",
    "                sum_W += w[i,j]  \n",
    "            mu[j] = sum_W_X / sum_W\n",
    "            \n",
    "            for i in range(n):\n",
    "                sum_W_X_MU += w[i,j] * (x[i]-mu[j])**2                \n",
    "            sigma[j] = ( sum_W_X_MU / sum_W )**0.5\n",
    "            \n",
    "            phi[j] = sum_W / n\n",
    "              \n",
    "    return w, mu, sigma, phi"
   ]
  },
  {
   "cell_type": "code",
   "execution_count": 5,
   "metadata": {},
   "outputs": [],
   "source": [
    "def probability(x, mu, sigma, phi, k = 2):\n",
    "    n = x.shape[0]\n",
    "    p = x.shape[1]\n",
    "    w = np.ndarray(shape=(n,k,p))\n",
    "    sum_of_all_probability = np.zeros((n,1,p))\n",
    "    probability = np.zeros((n,k,p))\n",
    "    \n",
    "    for i in range(n):\n",
    "        for j in range(k):\n",
    "            dij = x[i] - mu[j] \n",
    "            dijSquare = - ( dij.T * dij )\n",
    "            sigSquare = 2 * sigma[j]**2\n",
    "            tempExp = np.exp( dijSquare / sigSquare )\n",
    "            constant = 1 / ( (2*math.pi)**(p/2) * sigma[j] )\n",
    "            probability[i,j] = ( constant * tempExp * phi[j] )\n",
    "            sum_of_all_probability[i] += probability[i,j]\n",
    "    \n",
    "    preW = np.copy(w)       \n",
    "    for i in range(n):\n",
    "            for j in range(k):\n",
    "                w[i,j] = probability[i,j] / sum_of_all_probability[i]\n",
    "    return w"
   ]
  },
  {
   "cell_type": "code",
   "execution_count": 6,
   "metadata": {},
   "outputs": [],
   "source": [
    "def ErrorFunction (w, mu, sigma, phi, x, k):\n",
    "    n = x.shape[0]\n",
    "    p = x.shape[1]\n",
    "    \n",
    "    funJ = np.zeros((n,k))\n",
    "    for i in range(n):\n",
    "        for j in range(k):\n",
    "            const = math.log( 1/ (2* math.pi)**(p/2) )\n",
    "            lnSig = np.log( sigma[j] )\n",
    "            \n",
    "            dijSquare = (x[i] - mu[j])**2\n",
    "            sigSquare = 2 * sigma[j]**2\n",
    "            exp = dijSquare/sigSquare\n",
    "            \n",
    "            lnPhi = np.log( phi[j] )\n",
    "            lnW = np.log ( w[i,j] )\n",
    "            \n",
    "            funJ += w[i,j] * ( const - lnSig - exp + lnPhi - lnW )\n",
    "    \n",
    "    return funJ"
   ]
  },
  {
   "cell_type": "code",
   "execution_count": 7,
   "metadata": {},
   "outputs": [],
   "source": [
    "def CreateDict(w):\n",
    "    dic = defaultdict(list)\n",
    "    i = 0\n",
    "    for c in w:\n",
    "        if c[0] > 0.5:\n",
    "            dic[0].append(i)\n",
    "        if c[1] > 0.5:\n",
    "            dic[1].append(i)\n",
    "        i += 1 \n",
    "    return dic\n",
    "\n",
    "def PlotGraph(data, dic):\n",
    "    for rowind in range(0, len(data)):\n",
    "        temp = data.iloc[[rowind]]\n",
    "        if rowind in dic[0]:\n",
    "            plt.plot(temp[\"Eruptions\"],temp[\"Waiting Time\"], 'b+')\n",
    "        else:\n",
    "            plt.plot(temp[\"Eruptions\"],temp[\"Waiting Time\"], 'r+')"
   ]
  },
  {
   "cell_type": "markdown",
   "metadata": {},
   "source": [
    "Classifying the Data into clusters"
   ]
  },
  {
   "cell_type": "code",
   "execution_count": 8,
   "metadata": {},
   "outputs": [
    {
     "data": {
      "image/png": "[encoded data removed]",
      "text/plain": [
       "<Figure size 432x288 with 1 Axes>"
      ]
     },
     "metadata": {
      "needs_background": "light"
     },
     "output_type": "display_data"
    }
   ],
   "source": [
    "w, mu, sigma, phi = trainData(train_X , 2)\n",
    "J = ErrorFunction(w, mu, sigma, phi, train_X ,2)\n",
    "trainingCluster = CreateDict(w)\n",
    "PlotGraph(training_data, trainingCluster)"
   ]
  },
  {
   "cell_type": "code",
   "execution_count": 9,
   "metadata": {
    "scrolled": true
   },
   "outputs": [],
   "source": [
    "train_clutster_1 = training_data.loc[ training_data[\"No\"].isin( trainingCluster[0] ) ]\n",
    "train_clutster_2 = training_data.loc[ training_data[\"No\"].isin( trainingCluster[1] ) ]\n",
    "\n",
    "train_X_clutster_1 = train_clutster_1[[\"Eruptions\"]].values\n",
    "train_Y_clutster_1 = train_clutster_1[[\"Waiting Time\"]].values\n",
    "\n",
    "train_X_clutster_2 = train_clutster_2[[\"Eruptions\"]].values\n",
    "train_Y_clutster_2 = train_clutster_2[[\"Waiting Time\"]].values\n",
    "\n",
    "def Linear_Train(training_data_X, training_data_Y):\n",
    "    xT = np.transpose(training_data_X)\n",
    "    xTx = np.matmul ( xT, training_data_X )\n",
    "    inverse_xTx = np.linalg.inv ( xTx )\n",
    "    xTy = np.matmul ( xT, training_data_Y )\n",
    "    theta_function =  np.matmul (inverse_xTx, xTy)\n",
    "    return theta_function\n",
    "\n",
    "def Cal_Error(validating_data_X, validating_data_Y, theta_function):\n",
    "    #Now Validation of Data\n",
    "    error_function = ( np.matmul( validating_data_X, theta_function ) - validating_data_Y ) ** 2\n",
    "    mean_square_error = np.sum(error_function)\n",
    "    root_mean_square_error = np.sqrt(mean_square_error) / np.size(error_function)\n",
    "    return root_mean_square_error\n",
    "\n",
    "theta_cluster_1 = Linear_Train(train_X_clutster_1,train_Y_clutster_1)\n",
    "theta_cluster_2 = Linear_Train(train_X_clutster_2,train_Y_clutster_2)"
   ]
  },
  {
   "cell_type": "code",
   "execution_count": 10,
   "metadata": {},
   "outputs": [],
   "source": [
    "rmse_1 = Cal_Error(train_X_clutster_1,train_Y_clutster_1,theta_cluster_1)\n",
    "rmse_2 = Cal_Error(train_X_clutster_2,train_Y_clutster_2,theta_cluster_2)"
   ]
  },
  {
   "cell_type": "code",
   "execution_count": 11,
   "metadata": {},
   "outputs": [
    {
     "data": {
      "image/png": "[encoded data removed]",
      "text/plain": [
       "<Figure size 432x288 with 1 Axes>"
      ]
     },
     "metadata": {
      "needs_background": "light"
     },
     "output_type": "display_data"
    }
   ],
   "source": [
    "predict_w = probability(test_X, mu, sigma, phi)\n",
    "predictCluster  = CreateDict(predict_w)\n",
    "\n",
    "predict_Y = np.ndarray((test_Y.shape[0], test_Y.shape[1]))\n",
    "\n",
    "for rowind in range(len(test_X)):\n",
    "    temp = test_X[rowind,:]\n",
    "    if rowind in predictCluster[0]:\n",
    "        predict_Y[rowind] = np.matmul(temp, theta_cluster_1)\n",
    "    else:\n",
    "        predict_Y[rowind] = np.matmul(temp, theta_cluster_2)\n",
    "        \n",
    "PlotGraph(testing_data, predictCluster)"
   ]
  },
  {
   "cell_type": "code",
   "execution_count": 12,
   "metadata": {},
   "outputs": [
    {
     "data": {
      "text/plain": [
       "Text(0, 0.5, 'Waiting')"
      ]
     },
     "execution_count": 12,
     "metadata": {},
     "output_type": "execute_result"
    },
    {
     "data": {
      "image/png": "[encoded data removed]",
      "text/plain": [
       "<Figure size 1152x504 with 2 Axes>"
      ]
     },
     "metadata": {
      "needs_background": "light"
     },
     "output_type": "display_data"
    }
   ],
   "source": [
    "fig, arr = plt.subplots(nrows=1, ncols=2, sharex=False, sharey=True)\n",
    "\n",
    "fig.set_figwidth(16)\n",
    "fig.set_figheight(7)\n",
    "\n",
    "arr[0].scatter (test_X[:,0], predict_Y, c='r' )\n",
    "arr[0].set_title('Predicted Result')\n",
    "arr[0].set_xlabel('Eruption')\n",
    "arr[0].set_ylabel('Waiting')\n",
    "\n",
    "arr[1].scatter (test_X[:,0], test_Y, c='b' )\n",
    "arr[1].set_title('Actual Result')\n",
    "arr[1].set_xlabel('Eruption')\n",
    "arr[1].set_ylabel('Waiting')"
   ]
  },
  {
   "cell_type": "code",
   "execution_count": 13,
   "metadata": {},
   "outputs": [
    {
     "data": {
      "text/plain": [
       "Text(0.5, 1.0, 'Actual Result')"
      ]
     },
     "execution_count": 13,
     "metadata": {},
     "output_type": "execute_result"
    },
    {
     "data": {
      "image/png": "[encoded data removed]",
      "text/plain": [
       "<Figure size 1152x288 with 2 Axes>"
      ]
     },
     "metadata": {
      "needs_background": "light"
     },
     "output_type": "display_data"
    }
   ],
   "source": [
    "fig, arr = plt.subplots(nrows=1, ncols=2, sharex=False, sharey=True)\n",
    "\n",
    "fig.set_figwidth(16)\n",
    "fig.set_figheight(4)\n",
    "\n",
    "arr[0].hist(predict_Y)\n",
    "arr[0].set_title('Predicted Result')\n",
    "\n",
    "arr[1].hist(test_Y)\n",
    "arr[1].set_title('Actual Result')"
   ]
  },
  {
   "cell_type": "code",
   "execution_count": null,
   "metadata": {},
   "outputs": [],
   "source": []
  },
  {
   "cell_type": "code",
   "execution_count": null,
   "metadata": {},
   "outputs": [],
   "source": []
  },
  {
   "cell_type": "code",
   "execution_count": null,
   "metadata": {},
   "outputs": [],
   "source": []
  }
 ],
 "metadata": {
  "kernelspec": {
   "display_name": "Python 3",
   "language": "python",
   "name": "python3"
  },
  "language_info": {
   "codemirror_mode": {
    "name": "ipython",
    "version": 3
   },
   "file_extension": ".py",
   "mimetype": "text/x-python",
   "name": "python",
   "nbconvert_exporter": "python",
   "pygments_lexer": "ipython3",
   "version": "3.7.1"
  }
 },
 "nbformat": 4,
 "nbformat_minor": 2
}
