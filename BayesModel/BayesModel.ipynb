{
 "cells": [
  {
   "cell_type": "code",
   "execution_count": 1,
   "metadata": {},
   "outputs": [],
   "source": [
    "import pandas as p\n",
    "from pandas import DataFrame\n",
    "import numpy as n\n",
    "import matplotlib.pyplot as m\n",
    "from random import *\n",
    "import math as math\n",
    "from collections import defaultdict"
   ]
  },
  {
   "cell_type": "code",
   "execution_count": 2,
   "metadata": {
    "scrolled": false
   },
   "outputs": [
    {
     "data": {
      "text/html": [
       "<div>\n",
       "<style scoped>\n",
       "    .dataframe tbody tr th:only-of-type {\n",
       "        vertical-align: middle;\n",
       "    }\n",
       "\n",
       "    .dataframe tbody tr th {\n",
       "        vertical-align: top;\n",
       "    }\n",
       "\n",
       "    .dataframe thead th {\n",
       "        text-align: right;\n",
       "    }\n",
       "</style>\n",
       "<table border=\"1\" class=\"dataframe\">\n",
       "  <thead>\n",
       "    <tr style=\"text-align: right;\">\n",
       "      <th></th>\n",
       "      <th>MessageIndex</th>\n",
       "      <th>WordIndex</th>\n",
       "      <th>#Occurances</th>\n",
       "    </tr>\n",
       "  </thead>\n",
       "  <tbody>\n",
       "    <tr>\n",
       "      <th>0</th>\n",
       "      <td>1</td>\n",
       "      <td>19</td>\n",
       "      <td>2</td>\n",
       "    </tr>\n",
       "    <tr>\n",
       "      <th>1</th>\n",
       "      <td>1</td>\n",
       "      <td>45</td>\n",
       "      <td>1</td>\n",
       "    </tr>\n",
       "    <tr>\n",
       "      <th>2</th>\n",
       "      <td>1</td>\n",
       "      <td>50</td>\n",
       "      <td>1</td>\n",
       "    </tr>\n",
       "    <tr>\n",
       "      <th>3</th>\n",
       "      <td>1</td>\n",
       "      <td>75</td>\n",
       "      <td>1</td>\n",
       "    </tr>\n",
       "    <tr>\n",
       "      <th>4</th>\n",
       "      <td>1</td>\n",
       "      <td>85</td>\n",
       "      <td>1</td>\n",
       "    </tr>\n",
       "  </tbody>\n",
       "</table>\n",
       "</div>"
      ],
      "text/plain": [
       "   MessageIndex  WordIndex  #Occurances\n",
       "0             1         19            2\n",
       "1             1         45            1\n",
       "2             1         50            1\n",
       "3             1         75            1\n",
       "4             1         85            1"
      ]
     },
     "execution_count": 2,
     "metadata": {},
     "output_type": "execute_result"
    }
   ],
   "source": [
    "training_data = p.read_csv(\"train-features.txt\",header= None,sep =' ',names = [\"MessageIndex\", \"WordIndex\", \"#Occurances\"])\n",
    "training_data.head()"
   ]
  },
  {
   "cell_type": "markdown",
   "metadata": {},
   "source": [
    "### Read Training label - spam or ham"
   ]
  },
  {
   "cell_type": "code",
   "execution_count": 3,
   "metadata": {},
   "outputs": [],
   "source": [
    "label = p.read_csv(\"train-labels.txt\",header= None,names=[\"Spam/Ham\"])\n",
    "label.insert(0, \"#Message\", range(1, 1 + len(label)))"
   ]
  },
  {
   "cell_type": "code",
   "execution_count": 4,
   "metadata": {},
   "outputs": [
    {
     "name": "stdout",
     "output_type": "stream",
     "text": [
      "350 350 700\n"
     ]
    }
   ],
   "source": [
    "num_spam = len(label[label[\"Spam/Ham\"]==0])\n",
    "num_ham = len(label[label[\"Spam/Ham\"]==1])\n",
    "\n",
    "total_msgs = len(label)\n",
    "print(num_spam,num_ham,total_msgs)"
   ]
  },
  {
   "cell_type": "markdown",
   "metadata": {},
   "source": [
    "### Create dictionaries for spam and ham messages"
   ]
  },
  {
   "cell_type": "code",
   "execution_count": 5,
   "metadata": {
    "scrolled": false
   },
   "outputs": [],
   "source": [
    "spam_dict = defaultdict(int)\n",
    "ham_dict = defaultdict(int) \n",
    "for i,row in training_data.iterrows():\n",
    "    if(label[\"Spam/Ham\"].values[row[\"MessageIndex\"]-1] == 1):\n",
    "        spam_dict[row[\"WordIndex\"]]+=row[\"#Occurances\"]\n",
    "    elif(label[\"Spam/Ham\"].values[row[\"MessageIndex\"]-1] == 0):\n",
    "        ham_dict[row[\"WordIndex\"]]+=row[\"#Occurances\"]\n"
   ]
  },
  {
   "cell_type": "markdown",
   "metadata": {},
   "source": [
    "### Probabilities of each word using laplace smoothing"
   ]
  },
  {
   "cell_type": "code",
   "execution_count": 6,
   "metadata": {},
   "outputs": [],
   "source": [
    "p_spam = defaultdict(int)\n",
    "p_ham = defaultdict(int) \n",
    "\n",
    "for i in spam_dict:\n",
    "    p_spam[i] = (spam_dict[i]+1)/(num_spam+2)\n",
    "    \n",
    "for i in ham_dict:\n",
    "    p_ham[i] = (ham_dict[i]+1)/(num_ham+2)\n",
    "    if p_ham[i] == 0:\n",
    "        print (p_ham[i])"
   ]
  },
  {
   "cell_type": "markdown",
   "metadata": {},
   "source": [
    "### Read test data\n"
   ]
  },
  {
   "cell_type": "code",
   "execution_count": 7,
   "metadata": {},
   "outputs": [
    {
     "name": "stdout",
     "output_type": "stream",
     "text": [
      "P(Spam) 0.5\n",
      "P(Ham) 0.5\n"
     ]
    }
   ],
   "source": [
    "test_data = p.read_csv(\"test-features.txt\",header= None, sep =' ',names = [\"MessageIndex\", \"WordIndex\", \"#Occurances\"])\n",
    "test_label = p.read_csv(\"test-labels.txt\",header= None,names=[\"Spam/Ham\"])\n",
    "test_label.insert(0, \"#Message\", range(1, 1 + len(test_label)))\n",
    "\n",
    "# Find prob of spam and ham in test ie., P(Spam) &  P(Ham)\n",
    "num_spam_test = len(test_label[test_label[\"Spam/Ham\"]==0])\n",
    "num_ham_test = len(test_label[test_label[\"Spam/Ham\"]==1])\n",
    "total_test = len(test_label)\n",
    "\n",
    "pos = num_spam_test/total_test\n",
    "poh = num_ham_test/total_test\n",
    "print(\"P(Spam)\",pos)\n",
    "print(\"P(Ham)\",poh)"
   ]
  },
  {
   "cell_type": "code",
   "execution_count": 8,
   "metadata": {},
   "outputs": [
    {
     "name": "stdout",
     "output_type": "stream",
     "text": [
      "defaultdict(<class 'int'>, {0: 0, 1: 0, 2: 0, 3: 0, 4: 0, 5: 0, 6: 0, 7: 0, 8: 0, 9: 0, 10: 0, 11: 0, 12: 0, 13: 0, 14: 0, 15: 0, 16: 0, 17: 0, 18: 0, 19: 0, 20: 0, 21: 0, 22: 0, 23: 0, 24: 0, 25: 0, 26: 0, 27: 0, 28: 0, 29: 0, 30: 0, 31: 0, 32: 0, 33: 0, 34: 0, 35: 0, 36: 0, 37: 0, 38: 1, 39: 0, 40: 0, 41: 1, 42: 0, 43: 0, 44: 0, 45: 0, 46: 1, 47: 1, 48: 0, 49: 0, 50: 0, 51: 1, 52: 1, 53: 0, 54: 0, 55: 1, 56: 0, 57: 0, 58: 0, 59: 0, 60: 0, 61: 0, 62: 0, 63: 0, 64: 0, 65: 0, 66: 0, 67: 0, 68: 0, 69: 0, 70: 0, 71: 0, 72: 0, 73: 0, 74: 0, 75: 1, 76: 0, 77: 0, 78: 1, 79: 0, 80: 0, 81: 0, 82: 0, 83: 0, 84: 0, 85: 0, 86: 0, 87: 0, 88: 0, 89: 0, 90: 0, 91: 0, 92: 0, 93: 0, 94: 0, 95: 0, 96: 0, 97: 0, 98: 0, 99: 0, 100: 0, 101: 0, 102: 0, 103: 0, 104: 0, 105: 0, 106: 0, 107: 0, 108: 0, 109: 0, 110: 0, 111: 0, 112: 0, 113: 0, 114: 0, 115: 0, 116: 0, 117: 0, 118: 0, 119: 0, 120: 0, 121: 0, 122: 0, 123: 0, 124: 0, 125: 0, 126: 0, 127: 0, 128: 0, 129: 0, 130: 0, 131: 1, 132: 1, 133: 1, 134: 1, 135: 1, 136: 1, 137: 1, 138: 1, 139: 1, 140: 1, 141: 1, 142: 1, 143: 1, 144: 1, 145: 1, 146: 1, 147: 1, 148: 1, 149: 1, 150: 1, 151: 1, 152: 1, 153: 1, 154: 1, 155: 1, 156: 1, 157: 1, 158: 1, 159: 1, 160: 1, 161: 1, 162: 1, 163: 1, 164: 1, 165: 1, 166: 1, 167: 1, 168: 1, 169: 1, 170: 1, 171: 1, 172: 1, 173: 1, 174: 1, 175: 1, 176: 1, 177: 1, 178: 1, 179: 1, 180: 1, 181: 1, 182: 1, 183: 1, 184: 1, 185: 1, 186: 1, 187: 1, 188: 1, 189: 1, 190: 1, 191: 1, 192: 1, 193: 1, 194: 1, 195: 1, 196: 1, 197: 1, 198: 1, 199: 1, 200: 1, 201: 1, 202: 1, 203: 1, 204: 1, 205: 1, 206: 1, 207: 1, 208: 1, 209: 1, 210: 1, 211: 1, 212: 1, 213: 1, 214: 1, 215: 1, 216: 1, 217: 1, 218: 1, 219: 1, 220: 1, 221: 1, 222: 1, 223: 1, 224: 1, 225: 1, 226: 1, 227: 1, 228: 1, 229: 1, 230: 1, 231: 1, 232: 1, 233: 1, 234: 1, 235: 1, 236: 1, 237: 1, 238: 1, 239: 1, 240: 1, 241: 1, 242: 1, 243: 1, 244: 1, 245: 1, 246: 1, 247: 1, 248: 1, 249: 1, 250: 1, 251: 1, 252: 1, 253: 1, 254: 1, 255: 1, 256: 1, 257: 1, 258: 1, 259: 1, 260: 1})\n"
     ]
    }
   ],
   "source": [
    "pos_f =0\n",
    "poh_f =0\n",
    "msg =0\n",
    "spam = defaultdict(int)\n",
    "\n",
    "for itr,row in test_data.iterrows():\n",
    "    if(msg != row[\"MessageIndex\"]):\n",
    "        if ((pos_f + math.log(pos)) > (poh_f + math.log(poh))):\n",
    "            spam[msg] = 1\n",
    "        else:\n",
    "            spam[msg] = 0\n",
    "        pos_f = 0\n",
    "        poh_f = 0\n",
    "    \n",
    "    msg =  row[\"MessageIndex\"]\n",
    "    \n",
    "    \n",
    "    px_gs =  spam_dict[row[\"WordIndex\"]] + 1 ) / (num_spam + 2) \n",
    "    px_gh =  p_ham[row[\"WordIndex\"]]\n",
    "    \n",
    "    if px_gs == 0:\n",
    "        px_gs = 1 / (num_spam + 2)\n",
    "    if px_gh == 0:\n",
    "        px_gh = 1 / (num_ham + 2)\n",
    "       \n",
    "    \n",
    "    #To avoid MAP underflow\n",
    "    pos_f = pos_f + (math.log(px_gs))\n",
    "    poh_f = poh_f + (math.log(px_gh))\n",
    "\n",
    "\n",
    "if((pos_f + math.log(pos)) > (poh_f + math.log(poh))):\n",
    "    spam[msg] = 1\n",
    "else:\n",
    "    spam[msg] = 0\n",
    "    \n",
    "print(spam) \n",
    "    "
   ]
  },
  {
   "cell_type": "code",
   "execution_count": 9,
   "metadata": {},
   "outputs": [],
   "source": [
    "spam.pop(0)\n",
    "result = p.DataFrame.from_dict(spam, orient=\"index\")\n",
    "result.columns = [\"Spam/Ham\"]\n",
    "result.insert(0, \"#Message\", range(1, 1 + len(spam)))\n"
   ]
  },
  {
   "cell_type": "code",
   "execution_count": 10,
   "metadata": {},
   "outputs": [
    {
     "name": "stdout",
     "output_type": "stream",
     "text": [
      "ACCURACY: 96.53846153846153\n"
     ]
    }
   ],
   "source": [
    "correct = n.sum(result[\"Spam/Ham\"].values == test_label[\"Spam/Ham\"].values)\n",
    "accuracy = correct/len(result)\n",
    "accuracy*100\n",
    "\n",
    "print(\"ACCURACY:\",accuracy*100)"
   ]
  },
  {
   "cell_type": "code",
   "execution_count": 11,
   "metadata": {},
   "outputs": [
    {
     "name": "stdout",
     "output_type": "stream",
     "text": [
      "**************** Prediction**********************\n"
     ]
    },
    {
     "data": {
      "image/png": "[encoded data removed]",
      "text/plain": [
       "<Figure size 432x288 with 1 Axes>"
      ]
     },
     "metadata": {
      "needs_background": "light"
     },
     "output_type": "display_data"
    },
    {
     "name": "stdout",
     "output_type": "stream",
     "text": [
      "**************** Testing Data **********************\n"
     ]
    },
    {
     "data": {
      "image/png": "[encoded data removed]",
      "text/plain": [
       "<Figure size 432x288 with 1 Axes>"
      ]
     },
     "metadata": {
      "needs_background": "light"
     },
     "output_type": "display_data"
    }
   ],
   "source": [
    "print(\"**************** Prediction**********************\")\n",
    "m.scatter(test_label[\"#Message\"],result[\"Spam/Ham\"])\n",
    "m.xlabel(\"Spam | Ham\")\n",
    "m.ylabel(\"Message Number\")\n",
    "m.show()\n",
    "print(\"**************** Testing Data **********************\")\n",
    "m.scatter(test_label[\"#Message\"],test_label[\"Spam/Ham\"])\n",
    "m.xlabel(\"Spam | Ham\")\n",
    "m.ylabel(\"Message Number\")\n",
    "m.show()"
   ]
  },
  {
   "cell_type": "code",
   "execution_count": null,
   "metadata": {},
   "outputs": [],
   "source": []
  }
 ],
 "metadata": {
  "kernelspec": {
   "display_name": "Python 3",
   "language": "python",
   "name": "python3"
  },
  "language_info": {
   "codemirror_mode": {
    "name": "ipython",
    "version": 3
   },
   "file_extension": ".py",
   "mimetype": "text/x-python",
   "name": "python",
   "nbconvert_exporter": "python",
   "pygments_lexer": "ipython3",
   "version": "3.7.1"
  }
 },
 "nbformat": 4,
 "nbformat_minor": 2
}
